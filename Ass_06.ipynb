{
 "cells": [
  {
   "cell_type": "code",
   "execution_count": 1,
   "metadata": {},
   "outputs": [
    {
     "name": "stdout",
     "output_type": "stream",
     "text": [
      "Swift Suzuki 2011 Blue 2\n",
      "Corolla is stopped\n",
      "Swift is now being driven\n"
     ]
    }
   ],
   "source": [
    "class Car:\n",
    "    def __init__(self, name, brand, model, color, doors):\n",
    "        self.name = name\n",
    "        self.brand = brand\n",
    "        self.model = model\n",
    "        self.color = color\n",
    "        self.doors = doors\n",
    "    def printCar(self):\n",
    "        print(self.name, self.brand, self.model, self.color,self.doors)\n",
    "    def drive(self):\n",
    "        print(self.name,\"is now being driven\")\n",
    "    def stop(self):\n",
    "        print(self.name,\"is stopped\")\n",
    "        \n",
    "car1 = Car(\"Honda\", \"City\", \"2005\", \"White\", 4)\n",
    "car2 = Car(\"Swift\", \"Suzuki\", \"2011\", \"Blue\", 2)\n",
    "car3 = Car(\"Fe22\", \"Ferrari\", \"2011\", \"Green\", 4)\n",
    "car4 = Car(\"Corolla\", \"Toyota\", \"2012\", \"Red\", 2)\n",
    "car5 = Car(\"Vitz\", \"Honda\", \"2019\", \"Gray\", 4)\n",
    "car2.printCar()\n",
    "car4.stop()\n",
    "car2.drive()"
   ]
  },
  {
   "cell_type": "code",
   "execution_count": null,
   "metadata": {},
   "outputs": [],
   "source": []
  }
 ],
 "metadata": {
  "kernelspec": {
   "display_name": "Python 3",
   "language": "python",
   "name": "python3"
  },
  "language_info": {
   "codemirror_mode": {
    "name": "ipython",
    "version": 3
   },
   "file_extension": ".py",
   "mimetype": "text/x-python",
   "name": "python",
   "nbconvert_exporter": "python",
   "pygments_lexer": "ipython3",
   "version": "3.7.4"
  }
 },
 "nbformat": 4,
 "nbformat_minor": 2
}
