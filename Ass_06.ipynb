{
 "cells": [
  {
   "cell_type": "code",
   "execution_count": 1,
   "metadata": {},
   "outputs": [
    {
     "name": "stdout",
     "output_type": "stream",
     "text": [
      "Swift Suzuki 2011 Blue 2\n",
      "Corolla is stopped\n",
      "Swift is now being driven\n"
     ]
    }
   ],
   "source": [
    "class Car:\n",
    "    def __init__(self, name, brand, model, color, doors):\n",
    "        self.name = name\n",
    "        self.brand = brand\n",
    "        self.model = model\n",
    "        self.color = color\n",
    "        self.doors = doors\n",
    "    def printCar(self):\n",
    "        print(self.name, self.brand, self.model, self.color,self.doors)\n",
    "    def drive(self):\n",
    "        print(self.name,\"is now being driven\")\n",
    "    def stop(self):\n",
    "        print(self.name,\"is stopped\")\n",
    "        \n",
    "car1 = Car(\"Honda\", \"City\", \"2005\", \"White\", 4)\n",
    "car2 = Car(\"Swift\", \"Suzuki\", \"2011\", \"Blue\", 2)\n",
    "car3 = Car(\"Fe22\", \"Ferrari\", \"2011\", \"Green\", 4)\n",
    "car4 = Car(\"Corolla\", \"Toyota\", \"2012\", \"Red\", 2)\n",
    "car5 = Car(\"Vitz\", \"Honda\", \"2019\", \"Gray\", 4)\n",
    "car2.printCar()\n",
    "car4.stop()\n",
    "car2.drive()"
   ]
  },
  {
   "cell_type": "code",
   "execution_count": null,
   "metadata": {},
   "outputs": [],
   "source": [
    "#                                         Ans  # 01:\n",
    "OBJECT ORIENTED PROGRAMMING:Object Oriented Programming Is a Paradigim in which real-world objects are each viewed as separate entities having their own state which is modified only by built in procedures, called methods.\n",
    "                                                                                             OR\n",
    "Object-Oriented Programming is a methodology or paradigm to design a program using classes and objects. It simplifies software development and maintenance by providing some concepts:\n",
    "Object\n",
    "Class\n",
    "Inheritance\n",
    "Polymorphism\n",
    "Abstraction\n",
    "Encapsulation\n",
    "                                         Ans # 02:\n",
    "BENEFITS OF OOP’S:\n",
    "1.OOPs makes development and maintenance easier, whereas, in a procedure-oriented programming language, it is not easy to manage if code grows as project size increases.\n",
    "2.  OOPs provides data hiding, whereas, in a procedure-oriented programming language, global data can be accessed from anywhere.\n",
    "3.The Class is Shareable So Code Can Be Reused.\n",
    "4.The Productivity of Programmer Increases.\n",
    "                                   Ans#03:\n",
    "Function                        Method                    \n",
    "1.Function Does Not Have Any Refrence  1.Methods Are Called By Refrence \n",
    "Variable.\tVariable.\n",
    "2.All Data That Is Passed to a function    2.it is implicitly Passed The Object \n",
    "Is explicitly Passed.\tFor Which it was called.\n",
    "3.It does not have acess controlling        3.It has acess Controlling.\t\n",
    "\n",
    "                                                 Ans #04:\n",
    "OBJECT:\n",
    "Any entity that has state and behavior is known as an object. For example, a chair, pen, table, keyboard, bike, etc. It can be physical or logical.\n",
    "An Object can be defined as an instance of a class. An object contains an address and takes up some space in memory. Objects can communicate without knowing the details of each other's data or code. The only necessary thing is the type of message accepted and the type of response returned by the objects.\n",
    "Example: A dog is an object because it has states like color, name, breed, etc. as well as behaviors like wagging the tail, barking, eating, etc.\n",
    "ClASS:\n",
    "Collection of objects is called class. It is a logical entity.\n",
    "A class can also be defined as a blueprint from which you can create an individual object. Class doesn't consume any space.\n",
    "ATTRIBUTE:\n",
    "An attribute is defined as a quality or characteristic of a person, place, or thing. Real life individuals and fictional characters possess various attributes.\t\n",
    "Behaviour:\n",
    "The behavior of an object is defined by its methods, which are the functions and subroutines defined within the object class. ... Methods determine what type of functionality a class has, how it modifies its data, and its overall behavior.\n",
    "                                                   Ans # 05\n",
    "class Car:\n",
    "    def __init__(self, name, brand, model, color, doors):\n",
    "        self.name = name\n",
    "        self.brand = brand\n",
    "        self.model = model\n",
    "        self.color = color\n",
    "        self.doors = doors\n",
    "    def printCar(self):\n",
    "        print(self.name, self.brand, self.model, self.color,self.doors)\n",
    "    def drive(self):\n",
    "        print(self.name,\"is now being driven\")\n",
    "    def stop(self):\n",
    "        print(self.name,\"is stopped\")\n",
    "        \n",
    "car1 = Car(\"Honda\", \"City\", \"2005\", \"White\", 4)\n",
    "car2 = Car(\"Swift\", \"Suzuki\", \"2011\", \"Blue\", 2)\n",
    "car3 = Car(\"Fe22\", \"Ferrari\", \"2011\", \"Green\", 4)\n",
    "car4 = Car(\"Corolla\", \"Toyota\", \"2012\", \"Red\", 2)\n",
    "car5 = Car(\"Vitz\", \"Honda\", \"2019\", \"Gray\", 4)\n",
    "car2.printCar()\n",
    "car4.stop()\n",
    "car2.drive()"
   ]
  }
 ],
 "metadata": {
  "kernelspec": {
   "display_name": "Python 3",
   "language": "python",
   "name": "python3"
  },
  "language_info": {
   "codemirror_mode": {
    "name": "ipython",
    "version": 3
   },
   "file_extension": ".py",
   "mimetype": "text/x-python",
   "name": "python",
   "nbconvert_exporter": "python",
   "pygments_lexer": "ipython3",
   "version": "3.7.4"
  }
 },
 "nbformat": 4,
 "nbformat_minor": 2
}
